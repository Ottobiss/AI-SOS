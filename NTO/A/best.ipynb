{
 "cells": [
  {
   "cell_type": "code",
   "execution_count": null,
   "metadata": {
    "id": "UvFxlQuUBkxv"
   },
   "outputs": [],
   "source": [
    "import warnings\n",
    "warnings.filterwarnings(\"ignore\")"
   ]
  },
  {
   "cell_type": "code",
   "execution_count": null,
   "metadata": {
    "id": "GX1zg1rRh5MW"
   },
   "outputs": [],
   "source": [
    "from sklearn.metrics import f1_score"
   ]
  },
  {
   "cell_type": "code",
   "execution_count": 11,
   "metadata": {
    "colab": {
     "base_uri": "https://localhost:8080/",
     "height": 385
    },
    "execution": {
     "iopub.execute_input": "2024-11-04T13:03:23.522888Z",
     "iopub.status.busy": "2024-11-04T13:03:23.522180Z",
     "iopub.status.idle": "2024-11-04T13:03:23.913374Z",
     "shell.execute_reply": "2024-11-04T13:03:23.912400Z",
     "shell.execute_reply.started": "2024-11-04T13:03:23.522828Z"
    },
    "id": "2Yw7NxTtCyut",
    "outputId": "558eff25-70bb-4cab-9936-cf9fc33525c2"
   },
   "outputs": [],
   "source": [
    "import pandas as pd\n",
    "import numpy as np\n",
    "from feature_engine.imputation import MeanMedianImputer\n",
    "from feature_engine.outliers import Winsorizer\n",
    "from feature_engine.encoding import OrdinalEncoder\n",
    "\n",
    "from sklearn.pipeline import Pipeline\n",
    "from catboost import CatBoostClassifier\n",
    "from sklearn.model_selection import train_test_split, cross_val_score"
   ]
  },
  {
   "cell_type": "code",
   "execution_count": 8,
   "metadata": {
    "execution": {
     "iopub.execute_input": "2024-11-04T13:01:32.906931Z",
     "iopub.status.busy": "2024-11-04T13:01:32.906542Z",
     "iopub.status.idle": "2024-11-04T13:02:06.662607Z",
     "shell.execute_reply": "2024-11-04T13:02:06.661603Z",
     "shell.execute_reply.started": "2024-11-04T13:01:32.906895Z"
    }
   },
   "outputs": [
    {
     "name": "stdout",
     "output_type": "stream",
     "text": [
      "Collecting feature_engine\n",
      "  Using cached feature_engine-1.8.2-py2.py3-none-any.whl.metadata (9.9 kB)\n",
      "Collecting numpy>=1.18.2 (from feature_engine)\n",
      "  Downloading numpy-2.1.3-cp310-cp310-manylinux_2_17_x86_64.manylinux2014_x86_64.whl.metadata (62 kB)\n",
      "\u001b[2K     \u001b[90m━━━━━━━━━━━━━━━━━━━━━━━━━━━━━━━━━━━━━━━━\u001b[0m \u001b[32m62.0/62.0 kB\u001b[0m \u001b[31m1.9 MB/s\u001b[0m eta \u001b[36m0:00:00\u001b[0m\n",
      "\u001b[?25hCollecting pandas>=2.2.0 (from feature_engine)\n",
      "  Downloading pandas-2.2.3-cp310-cp310-manylinux_2_17_x86_64.manylinux2014_x86_64.whl.metadata (89 kB)\n",
      "\u001b[2K     \u001b[90m━━━━━━━━━━━━━━━━━━━━━━━━━━━━━━━━━━━━━━━━\u001b[0m \u001b[32m89.9/89.9 kB\u001b[0m \u001b[31m3.9 MB/s\u001b[0m eta \u001b[36m0:00:00\u001b[0m\n",
      "\u001b[?25hCollecting scikit-learn>=1.4.0 (from feature_engine)\n",
      "  Using cached scikit_learn-1.5.2-cp310-cp310-manylinux_2_17_x86_64.manylinux2014_x86_64.whl.metadata (13 kB)\n",
      "Collecting scipy>=1.4.1 (from feature_engine)\n",
      "  Downloading scipy-1.14.1-cp310-cp310-manylinux_2_17_x86_64.manylinux2014_x86_64.whl.metadata (60 kB)\n",
      "\u001b[2K     \u001b[90m━━━━━━━━━━━━━━━━━━━━━━━━━━━━━━━━━━━━━━━━\u001b[0m \u001b[32m60.8/60.8 kB\u001b[0m \u001b[31m3.3 MB/s\u001b[0m eta \u001b[36m0:00:00\u001b[0m\n",
      "\u001b[?25hCollecting statsmodels>=0.11.1 (from feature_engine)\n",
      "  Downloading statsmodels-0.14.4-cp310-cp310-manylinux_2_17_x86_64.manylinux2014_x86_64.whl.metadata (9.2 kB)\n",
      "Collecting python-dateutil>=2.8.2 (from pandas>=2.2.0->feature_engine)\n",
      "  Downloading python_dateutil-2.9.0.post0-py2.py3-none-any.whl.metadata (8.4 kB)\n",
      "Collecting pytz>=2020.1 (from pandas>=2.2.0->feature_engine)\n",
      "  Downloading pytz-2024.2-py2.py3-none-any.whl.metadata (22 kB)\n",
      "Collecting tzdata>=2022.7 (from pandas>=2.2.0->feature_engine)\n",
      "  Downloading tzdata-2024.2-py2.py3-none-any.whl.metadata (1.4 kB)\n",
      "Collecting joblib>=1.2.0 (from scikit-learn>=1.4.0->feature_engine)\n",
      "  Downloading joblib-1.4.2-py3-none-any.whl.metadata (5.4 kB)\n",
      "Collecting threadpoolctl>=3.1.0 (from scikit-learn>=1.4.0->feature_engine)\n",
      "  Downloading threadpoolctl-3.5.0-py3-none-any.whl.metadata (13 kB)\n",
      "Collecting patsy>=0.5.6 (from statsmodels>=0.11.1->feature_engine)\n",
      "  Downloading patsy-0.5.6-py2.py3-none-any.whl.metadata (3.5 kB)\n",
      "Collecting packaging>=21.3 (from statsmodels>=0.11.1->feature_engine)\n",
      "  Downloading packaging-24.1-py3-none-any.whl.metadata (3.2 kB)\n",
      "Collecting six (from patsy>=0.5.6->statsmodels>=0.11.1->feature_engine)\n",
      "  Downloading six-1.16.0-py2.py3-none-any.whl.metadata (1.8 kB)\n",
      "Using cached feature_engine-1.8.2-py2.py3-none-any.whl (374 kB)\n",
      "Downloading numpy-2.1.3-cp310-cp310-manylinux_2_17_x86_64.manylinux2014_x86_64.whl (16.3 MB)\n",
      "\u001b[2K   \u001b[90m━━━━━━━━━━━━━━━━━━━━━━━━━━━━━━━━━━━━━━━━\u001b[0m \u001b[32m16.3/16.3 MB\u001b[0m \u001b[31m83.1 MB/s\u001b[0m eta \u001b[36m0:00:00\u001b[0m:00:01\u001b[0m00:01\u001b[0m\n",
      "\u001b[?25hDownloading pandas-2.2.3-cp310-cp310-manylinux_2_17_x86_64.manylinux2014_x86_64.whl (13.1 MB)\n",
      "\u001b[2K   \u001b[90m━━━━━━━━━━━━━━━━━━━━━━━━━━━━━━━━━━━━━━━━\u001b[0m \u001b[32m13.1/13.1 MB\u001b[0m \u001b[31m93.9 MB/s\u001b[0m eta \u001b[36m0:00:00\u001b[0m:00:01\u001b[0m00:01\u001b[0m\n",
      "\u001b[?25hUsing cached scikit_learn-1.5.2-cp310-cp310-manylinux_2_17_x86_64.manylinux2014_x86_64.whl (13.3 MB)\n",
      "Downloading scipy-1.14.1-cp310-cp310-manylinux_2_17_x86_64.manylinux2014_x86_64.whl (41.2 MB)\n",
      "\u001b[2K   \u001b[90m━━━━━━━━━━━━━━━━━━━━━━━━━━━━━━━━━━━━━━━━\u001b[0m \u001b[32m41.2/41.2 MB\u001b[0m \u001b[31m40.1 MB/s\u001b[0m eta \u001b[36m0:00:00\u001b[0m:00:01\u001b[0m00:01\u001b[0m\n",
      "\u001b[?25hDownloading statsmodels-0.14.4-cp310-cp310-manylinux_2_17_x86_64.manylinux2014_x86_64.whl (10.8 MB)\n",
      "\u001b[2K   \u001b[90m━━━━━━━━━━━━━━━━━━━━━━━━━━━━━━━━━━━━━━━━\u001b[0m \u001b[32m10.8/10.8 MB\u001b[0m \u001b[31m90.1 MB/s\u001b[0m eta \u001b[36m0:00:00\u001b[0m:00:01\u001b[0m0:01\u001b[0m\n",
      "\u001b[?25hDownloading joblib-1.4.2-py3-none-any.whl (301 kB)\n",
      "\u001b[2K   \u001b[90m━━━━━━━━━━━━━━━━━━━━━━━━━━━━━━━━━━━━━━━━\u001b[0m \u001b[32m301.8/301.8 kB\u001b[0m \u001b[31m17.8 MB/s\u001b[0m eta \u001b[36m0:00:00\u001b[0m\n",
      "\u001b[?25hDownloading packaging-24.1-py3-none-any.whl (53 kB)\n",
      "\u001b[2K   \u001b[90m━━━━━━━━━━━━━━━━━━━━━━━━━━━━━━━━━━━━━━━━\u001b[0m \u001b[32m54.0/54.0 kB\u001b[0m \u001b[31m2.9 MB/s\u001b[0m eta \u001b[36m0:00:00\u001b[0m\n",
      "\u001b[?25hDownloading patsy-0.5.6-py2.py3-none-any.whl (233 kB)\n",
      "\u001b[2K   \u001b[90m━━━━━━━━━━━━━━━━━━━━━━━━━━━━━━━━━━━━━━━━\u001b[0m \u001b[32m233.9/233.9 kB\u001b[0m \u001b[31m11.4 MB/s\u001b[0m eta \u001b[36m0:00:00\u001b[0m\n",
      "\u001b[?25hDownloading python_dateutil-2.9.0.post0-py2.py3-none-any.whl (229 kB)\n",
      "\u001b[2K   \u001b[90m━━━━━━━━━━━━━━━━━━━━━━━━━━━━━━━━━━━━━━━━\u001b[0m \u001b[32m229.9/229.9 kB\u001b[0m \u001b[31m13.9 MB/s\u001b[0m eta \u001b[36m0:00:00\u001b[0m\n",
      "\u001b[?25hDownloading pytz-2024.2-py2.py3-none-any.whl (508 kB)\n",
      "\u001b[2K   \u001b[90m━━━━━━━━━━━━━━━━━━━━━━━━━━━━━━━━━━━━━━━━\u001b[0m \u001b[32m508.0/508.0 kB\u001b[0m \u001b[31m30.1 MB/s\u001b[0m eta \u001b[36m0:00:00\u001b[0m\n",
      "\u001b[?25hDownloading threadpoolctl-3.5.0-py3-none-any.whl (18 kB)\n",
      "Downloading tzdata-2024.2-py2.py3-none-any.whl (346 kB)\n",
      "\u001b[2K   \u001b[90m━━━━━━━━━━━━━━━━━━━━━━━━━━━━━━━━━━━━━━━━\u001b[0m \u001b[32m346.6/346.6 kB\u001b[0m \u001b[31m18.5 MB/s\u001b[0m eta \u001b[36m0:00:00\u001b[0m\n",
      "\u001b[?25hDownloading six-1.16.0-py2.py3-none-any.whl (11 kB)\n",
      "Installing collected packages: pytz, tzdata, threadpoolctl, six, packaging, numpy, joblib, scipy, python-dateutil, patsy, scikit-learn, pandas, statsmodels, feature_engine\n",
      "\u001b[31mERROR: pip's dependency resolver does not currently take into account all the packages that are installed. This behaviour is the source of the following dependency conflicts.\n",
      "cudf 24.8.3 requires cubinlinker, which is not installed.\n",
      "cudf 24.8.3 requires cupy-cuda11x>=12.0.0, which is not installed.\n",
      "cudf 24.8.3 requires ptxcompiler, which is not installed.\n",
      "cuml 24.8.0 requires cupy-cuda11x>=12.0.0, which is not installed.\n",
      "dask-cudf 24.8.3 requires cupy-cuda11x>=12.0.0, which is not installed.\n",
      "ucxx 0.39.1 requires libucx>=1.15.0, which is not installed.\n",
      "apache-beam 2.46.0 requires cloudpickle~=2.2.1, but you have cloudpickle 3.0.0 which is incompatible.\n",
      "apache-beam 2.46.0 requires dill<0.3.2,>=0.3.1.1, but you have dill 0.3.8 which is incompatible.\n",
      "apache-beam 2.46.0 requires numpy<1.25.0,>=1.14.3, but you have numpy 2.1.3 which is incompatible.\n",
      "apache-beam 2.46.0 requires pyarrow<10.0.0,>=3.0.0, but you have pyarrow 16.1.0 which is incompatible.\n",
      "beatrix-jupyterlab 2024.66.154055 requires jupyterlab~=3.6.0, but you have jupyterlab 4.2.5 which is incompatible.\n",
      "bigframes 0.22.0 requires google-cloud-bigquery[bqstorage,pandas]>=3.10.0, but you have google-cloud-bigquery 2.34.4 which is incompatible.\n",
      "bigframes 0.22.0 requires google-cloud-storage>=2.0.0, but you have google-cloud-storage 1.44.0 which is incompatible.\n",
      "bigframes 0.22.0 requires pandas<2.1.4,>=1.5.0, but you have pandas 2.2.3 which is incompatible.\n",
      "catboost 1.2.7 requires numpy<2.0,>=1.16.0, but you have numpy 2.1.3 which is incompatible.\n",
      "cudf 24.8.3 requires cuda-python<12.0a0,>=11.7.1, but you have cuda-python 12.6.0 which is incompatible.\n",
      "cudf 24.8.3 requires numpy<2.0a0,>=1.23, but you have numpy 2.1.3 which is incompatible.\n",
      "cudf 24.8.3 requires pandas<2.2.3dev0,>=2.0, but you have pandas 2.2.3 which is incompatible.\n",
      "dask-cuda 24.8.2 requires numpy<2.0a0,>=1.23, but you have numpy 2.1.3 which is incompatible.\n",
      "dask-cudf 24.8.3 requires numpy<2.0a0,>=1.23, but you have numpy 2.1.3 which is incompatible.\n",
      "dask-cudf 24.8.3 requires pandas<2.2.3dev0,>=2.0, but you have pandas 2.2.3 which is incompatible.\n",
      "dataproc-jupyter-plugin 0.1.79 requires pydantic~=1.10.0, but you have pydantic 2.9.2 which is incompatible.\n",
      "distributed 2024.7.1 requires dask==2024.7.1, but you have dask 2024.9.1 which is incompatible.\n",
      "gensim 4.3.3 requires numpy<2.0,>=1.18.5, but you have numpy 2.1.3 which is incompatible.\n",
      "gensim 4.3.3 requires scipy<1.14.0,>=1.7.0, but you have scipy 1.14.1 which is incompatible.\n",
      "google-cloud-bigquery 2.34.4 requires packaging<22.0dev,>=14.3, but you have packaging 24.1 which is incompatible.\n",
      "ibis-framework 7.1.0 requires numpy<2,>=1, but you have numpy 2.1.3 which is incompatible.\n",
      "ibis-framework 7.1.0 requires pyarrow<15,>=2, but you have pyarrow 16.1.0 which is incompatible.\n",
      "jupyterlab 4.2.5 requires jupyter-lsp>=2.0.0, but you have jupyter-lsp 1.5.1 which is incompatible.\n",
      "jupyterlab-lsp 5.1.0 requires jupyter-lsp>=2.0.0, but you have jupyter-lsp 1.5.1 which is incompatible.\n",
      "kfp 2.5.0 requires google-cloud-storage<3,>=2.2.1, but you have google-cloud-storage 1.44.0 which is incompatible.\n",
      "libpysal 4.9.2 requires shapely>=2.0.1, but you have shapely 1.8.5.post1 which is incompatible.\n",
      "matplotlib 3.7.5 requires numpy<2,>=1.20, but you have numpy 2.1.3 which is incompatible.\n",
      "numba 0.60.0 requires numpy<2.1,>=1.22, but you have numpy 2.1.3 which is incompatible.\n",
      "pylibraft 24.8.1 requires numpy<2.0a0,>=1.23, but you have numpy 2.1.3 which is incompatible.\n",
      "raft-dask 24.8.1 requires numpy<2.0a0,>=1.23, but you have numpy 2.1.3 which is incompatible.\n",
      "rapids-dask-dependency 24.8.0a0 requires dask==2024.7.1, but you have dask 2024.9.1 which is incompatible.\n",
      "rmm 24.8.2 requires cuda-python<12.0a0,>=11.7.1, but you have cuda-python 12.6.0 which is incompatible.\n",
      "rmm 24.8.2 requires numpy<2.0a0,>=1.23, but you have numpy 2.1.3 which is incompatible.\n",
      "tensorflow 2.16.1 requires numpy<2.0.0,>=1.23.5; python_version <= \"3.11\", but you have numpy 2.1.3 which is incompatible.\n",
      "tensorflow-transform 0.14.0 requires numpy<2,>=1.16, but you have numpy 2.1.3 which is incompatible.\n",
      "textblob 0.18.0.post0 requires nltk>=3.8, but you have nltk 3.2.4 which is incompatible.\n",
      "thinc 8.2.5 requires numpy<2.0.0,>=1.19.0; python_version >= \"3.9\", but you have numpy 2.1.3 which is incompatible.\n",
      "ucx-py 0.39.2 requires numpy<2.0a0,>=1.23, but you have numpy 2.1.3 which is incompatible.\n",
      "ucxx 0.39.1 requires numpy<2.0a0,>=1.23, but you have numpy 2.1.3 which is incompatible.\n",
      "ydata-profiling 4.10.0 requires scipy<1.14,>=1.4.1, but you have scipy 1.14.1 which is incompatible.\u001b[0m\u001b[31m\n",
      "\u001b[0mSuccessfully installed feature_engine-1.8.2 joblib-1.4.2 numpy-1.26.4 packaging-21.3 pandas-2.2.2 patsy-0.5.6 python-dateutil-2.9.0.post0 pytz-2024.1 scikit-learn-1.5.2 scipy-1.14.1 six-1.16.0 statsmodels-0.14.2 threadpoolctl-3.5.0 tzdata-2024.1\n"
     ]
    }
   ],
   "source": [
    "!pip install --ignore-installed feature_engine"
   ]
  },
  {
   "cell_type": "markdown",
   "metadata": {
    "id": "js-pVjiXWvgc"
   },
   "source": []
  },
  {
   "cell_type": "code",
   "execution_count": 44,
   "metadata": {
    "colab": {
     "base_uri": "https://localhost:8080/",
     "height": 668
    },
    "execution": {
     "iopub.execute_input": "2024-11-04T13:10:09.955108Z",
     "iopub.status.busy": "2024-11-04T13:10:09.954711Z",
     "iopub.status.idle": "2024-11-04T13:10:14.023174Z",
     "shell.execute_reply": "2024-11-04T13:10:14.022348Z",
     "shell.execute_reply.started": "2024-11-04T13:10:09.955070Z"
    },
    "id": "sXVn-GSzC1dX",
    "outputId": "79ba9ee5-4cac-4650-9c60-4e2e45be5bd9"
   },
   "outputs": [],
   "source": [
    "train = pd.read_csv('/kaggle/input/train-nt1/train.tsv', sep='\\t')"
   ]
  },
  {
   "cell_type": "code",
   "execution_count": 45,
   "metadata": {
    "execution": {
     "iopub.execute_input": "2024-11-04T13:10:14.024956Z",
     "iopub.status.busy": "2024-11-04T13:10:14.024631Z",
     "iopub.status.idle": "2024-11-04T13:10:14.327856Z",
     "shell.execute_reply": "2024-11-04T13:10:14.326827Z",
     "shell.execute_reply.started": "2024-11-04T13:10:14.024923Z"
    },
    "id": "SQyzRFJlEew2"
   },
   "outputs": [],
   "source": [
    "train.drop('id', inplace=True, axis=1)"
   ]
  },
  {
   "cell_type": "code",
   "execution_count": 46,
   "metadata": {
    "execution": {
     "iopub.execute_input": "2024-11-04T13:10:14.329321Z",
     "iopub.status.busy": "2024-11-04T13:10:14.328984Z",
     "iopub.status.idle": "2024-11-04T13:10:20.890685Z",
     "shell.execute_reply": "2024-11-04T13:10:20.889598Z",
     "shell.execute_reply.started": "2024-11-04T13:10:14.329272Z"
    }
   },
   "outputs": [],
   "source": [
    "train.replace({'?':np.nan}, inplace=True)\n",
    "train[train.columns[:-1]] = train[train.columns[:-1]].astype('float')"
   ]
  },
  {
   "cell_type": "code",
   "execution_count": 47,
   "metadata": {
    "execution": {
     "iopub.execute_input": "2024-11-04T13:10:20.893156Z",
     "iopub.status.busy": "2024-11-04T13:10:20.892773Z",
     "iopub.status.idle": "2024-11-04T13:10:21.287067Z",
     "shell.execute_reply": "2024-11-04T13:10:21.285972Z",
     "shell.execute_reply.started": "2024-11-04T13:10:20.893118Z"
    },
    "id": "HSU2v1KKFCG2"
   },
   "outputs": [],
   "source": [
    "X_train, X_test, y_train, y_test = train_test_split(train.drop('y', axis=1), train['y'], test_size=0.2, random_state=0)"
   ]
  },
  {
   "cell_type": "code",
   "execution_count": 40,
   "metadata": {
    "execution": {
     "iopub.execute_input": "2024-11-04T13:09:01.757752Z",
     "iopub.status.busy": "2024-11-04T13:09:01.757039Z",
     "iopub.status.idle": "2024-11-04T13:09:02.075873Z",
     "shell.execute_reply": "2024-11-04T13:09:02.074880Z",
     "shell.execute_reply.started": "2024-11-04T13:09:01.757712Z"
    }
   },
   "outputs": [],
   "source": []
  },
  {
   "cell_type": "code",
   "execution_count": 48,
   "metadata": {
    "execution": {
     "iopub.execute_input": "2024-11-04T13:10:21.288521Z",
     "iopub.status.busy": "2024-11-04T13:10:21.288206Z",
     "iopub.status.idle": "2024-11-04T13:10:21.294758Z",
     "shell.execute_reply": "2024-11-04T13:10:21.293909Z",
     "shell.execute_reply.started": "2024-11-04T13:10:21.288488Z"
    },
    "id": "62V_ra6jF19S"
   },
   "outputs": [],
   "source": [
    "preprocessing_pipeline = Pipeline([\n",
    "    # 1. Заполнение пропусков медианным значением для числовых признаков\n",
    "    ('imputer', MeanMedianImputer(imputation_method='median', variables=train.columns[:-1].tolist())),\n",
    "    \n",
    "    # 2. Обработка выбросов методом Winsorizer для числовых признаков\n",
    "    ('winsorizer', Winsorizer(capping_method='gaussian', tail='both', fold=3, variables=train.columns[:-1].tolist())),\n",
    "])"
   ]
  },
  {
   "cell_type": "code",
   "execution_count": 49,
   "metadata": {
    "colab": {
     "base_uri": "https://localhost:8080/"
    },
    "execution": {
     "iopub.execute_input": "2024-11-04T13:10:21.296458Z",
     "iopub.status.busy": "2024-11-04T13:10:21.296091Z",
     "iopub.status.idle": "2024-11-04T13:10:21.359166Z",
     "shell.execute_reply": "2024-11-04T13:10:21.358277Z",
     "shell.execute_reply.started": "2024-11-04T13:10:21.296414Z"
    },
    "id": "m63SkligMoDW",
    "outputId": "5141b8ae-4ba5-4546-f77e-0de539a9a19d"
   },
   "outputs": [
    {
     "name": "stdout",
     "output_type": "stream",
     "text": [
      "<class 'pandas.core.frame.DataFrame'>\n",
      "Index: 16000 entries, 17815 to 2732\n",
      "Columns: 1000 entries, x1 to x1000\n",
      "dtypes: float64(1000)\n",
      "memory usage: 122.2 MB\n"
     ]
    }
   ],
   "source": [
    "X_train.info()"
   ]
  },
  {
   "cell_type": "code",
   "execution_count": 50,
   "metadata": {
    "execution": {
     "iopub.execute_input": "2024-11-04T13:10:25.718635Z",
     "iopub.status.busy": "2024-11-04T13:10:25.717922Z",
     "iopub.status.idle": "2024-11-04T13:10:31.220107Z",
     "shell.execute_reply": "2024-11-04T13:10:31.219120Z",
     "shell.execute_reply.started": "2024-11-04T13:10:25.718594Z"
    },
    "id": "Ahr4gCcuMyl9"
   },
   "outputs": [],
   "source": [
    "X_train_processed = preprocessing_pipeline.fit_transform(X_train)\n",
    "X_test_processed = preprocessing_pipeline.transform(X_test)"
   ]
  },
  {
   "cell_type": "code",
   "execution_count": 53,
   "metadata": {
    "colab": {
     "base_uri": "https://localhost:8080/",
     "height": 1000
    },
    "execution": {
     "iopub.execute_input": "2024-11-04T13:12:43.109369Z",
     "iopub.status.busy": "2024-11-04T13:12:43.108382Z",
     "iopub.status.idle": "2024-11-04T13:12:43.114416Z",
     "shell.execute_reply": "2024-11-04T13:12:43.113432Z",
     "shell.execute_reply.started": "2024-11-04T13:12:43.109315Z"
    },
    "id": "2TUrxY7nV_y-",
    "outputId": "855d6f39-a038-4594-9a8d-2dccfa81fc07"
   },
   "outputs": [],
   "source": [
    "model = CatBoostClassifier(\n",
    "    iterations=1000,\n",
    "    depth=8,\n",
    "    learning_rate=0.1,\n",
    "    l2_leaf_reg=3,\n",
    "    random_seed=0,\n",
    "    verbose=100,\n",
    "    task_type='GPU',\n",
    "    eval_metric='F1',\n",
    "    \n",
    ")"
   ]
  },
  {
   "cell_type": "code",
   "execution_count": 54,
   "metadata": {
    "execution": {
     "iopub.execute_input": "2024-11-04T13:12:44.643898Z",
     "iopub.status.busy": "2024-11-04T13:12:44.643505Z",
     "iopub.status.idle": "2024-11-04T13:15:58.172242Z",
     "shell.execute_reply": "2024-11-04T13:15:58.171246Z",
     "shell.execute_reply.started": "2024-11-04T13:12:44.643860Z"
    }
   },
   "outputs": [
    {
     "name": "stdout",
     "output_type": "stream",
     "text": [
      "0:\tlearn: 0.7561027\ttest: 0.7448757\tbest: 0.7448757 (0)\ttotal: 660ms\tremaining: 10m 59s\n",
      "100:\tlearn: 0.8999892\ttest: 0.8710247\tbest: 0.8716365 (72)\ttotal: 20.1s\tremaining: 2m 58s\n",
      "200:\tlearn: 0.9278639\ttest: 0.8719081\tbest: 0.8742832 (156)\ttotal: 39.4s\tremaining: 2m 36s\n",
      "300:\tlearn: 0.9433679\ttest: 0.8768212\tbest: 0.8773169 (299)\ttotal: 58.6s\tremaining: 2m 16s\n",
      "400:\tlearn: 0.9547255\ttest: 0.8789080\tbest: 0.8798944 (341)\ttotal: 1m 17s\tremaining: 1m 56s\n",
      "500:\tlearn: 0.9629471\ttest: 0.8788683\tbest: 0.8804588 (459)\ttotal: 1m 37s\tremaining: 1m 36s\n",
      "600:\tlearn: 0.9702590\ttest: 0.8800354\tbest: 0.8804588 (459)\ttotal: 1m 56s\tremaining: 1m 17s\n",
      "700:\tlearn: 0.9765218\ttest: 0.8819107\tbest: 0.8820150 (688)\ttotal: 2m 15s\tremaining: 57.8s\n",
      "800:\tlearn: 0.9800213\ttest: 0.8820150\tbest: 0.8823009 (701)\ttotal: 2m 34s\tremaining: 38.4s\n",
      "900:\tlearn: 0.9845109\ttest: 0.8837622\tbest: 0.8848539 (884)\ttotal: 2m 53s\tremaining: 19.1s\n",
      "999:\tlearn: 0.9863246\ttest: 0.8849558\tbest: 0.8867257 (931)\ttotal: 3m 12s\tremaining: 0us\n",
      "bestTest = 0.8867256637\n",
      "bestIteration = 931\n",
      "Shrink model to first 932 iterations.\n"
     ]
    },
    {
     "data": {
      "text/plain": [
       "<catboost.core.CatBoostClassifier at 0x7cb483224ac0>"
      ]
     },
     "execution_count": 54,
     "metadata": {},
     "output_type": "execute_result"
    }
   ],
   "source": [
    "model.fit(X_train_processed, y_train, eval_set=(X_test_processed,y_test))"
   ]
  },
  {
   "cell_type": "code",
   "execution_count": 10,
   "metadata": {
    "execution": {
     "iopub.execute_input": "2024-11-03T18:56:45.935700Z",
     "iopub.status.busy": "2024-11-03T18:56:45.935054Z",
     "iopub.status.idle": "2024-11-03T18:56:45.980456Z",
     "shell.execute_reply": "2024-11-03T18:56:45.979639Z",
     "shell.execute_reply.started": "2024-11-03T18:56:45.935644Z"
    },
    "id": "EQI38Px4ljMD"
   },
   "outputs": [],
   "source": [
    "scores = cross_val_score(model, X_train_processed, y_train, cv=3, scoring='accuracy')"
   ]
  },
  {
   "cell_type": "code",
   "execution_count": 55,
   "metadata": {
    "execution": {
     "iopub.execute_input": "2024-11-04T13:16:21.998196Z",
     "iopub.status.busy": "2024-11-04T13:16:21.997417Z",
     "iopub.status.idle": "2024-11-04T13:16:24.597013Z",
     "shell.execute_reply": "2024-11-04T13:16:24.596211Z",
     "shell.execute_reply.started": "2024-11-04T13:16:21.998158Z"
    },
    "id": "M74bckUuH2tX"
   },
   "outputs": [],
   "source": [
    "test = pd.read_csv('/kaggle/input/train-nt1/test.tsv', sep='\\t')"
   ]
  },
  {
   "cell_type": "code",
   "execution_count": 56,
   "metadata": {
    "colab": {
     "base_uri": "https://localhost:8080/"
    },
    "id": "rqRF089lH_vw",
    "outputId": "6822fd7b-d7c6-48e7-b20c-909a31ace74d"
   },
   "outputs": [
    {
     "data": {
      "text/html": [
       "<div>\n",
       "<style scoped>\n",
       "    .dataframe tbody tr th:only-of-type {\n",
       "        vertical-align: middle;\n",
       "    }\n",
       "\n",
       "    .dataframe tbody tr th {\n",
       "        vertical-align: top;\n",
       "    }\n",
       "\n",
       "    .dataframe thead th {\n",
       "        text-align: right;\n",
       "    }\n",
       "</style>\n",
       "<table border=\"1\" class=\"dataframe\">\n",
       "  <thead>\n",
       "    <tr style=\"text-align: right;\">\n",
       "      <th></th>\n",
       "      <th>id</th>\n",
       "      <th>x1</th>\n",
       "      <th>x2</th>\n",
       "      <th>x3</th>\n",
       "      <th>x4</th>\n",
       "      <th>x5</th>\n",
       "      <th>x6</th>\n",
       "      <th>x7</th>\n",
       "      <th>x8</th>\n",
       "      <th>x9</th>\n",
       "      <th>...</th>\n",
       "      <th>x991</th>\n",
       "      <th>x992</th>\n",
       "      <th>x993</th>\n",
       "      <th>x994</th>\n",
       "      <th>x995</th>\n",
       "      <th>x996</th>\n",
       "      <th>x997</th>\n",
       "      <th>x998</th>\n",
       "      <th>x999</th>\n",
       "      <th>x1000</th>\n",
       "    </tr>\n",
       "  </thead>\n",
       "  <tbody>\n",
       "    <tr>\n",
       "      <th>0</th>\n",
       "      <td>20001</td>\n",
       "      <td>70</td>\n",
       "      <td>90</td>\n",
       "      <td>-100</td>\n",
       "      <td>?</td>\n",
       "      <td>-10</td>\n",
       "      <td>?</td>\n",
       "      <td>260</td>\n",
       "      <td>-370</td>\n",
       "      <td>-280</td>\n",
       "      <td>...</td>\n",
       "      <td>?</td>\n",
       "      <td>?</td>\n",
       "      <td>10</td>\n",
       "      <td>140</td>\n",
       "      <td>50</td>\n",
       "      <td>?</td>\n",
       "      <td>-60</td>\n",
       "      <td>?</td>\n",
       "      <td>-3200</td>\n",
       "      <td>-950</td>\n",
       "    </tr>\n",
       "    <tr>\n",
       "      <th>1</th>\n",
       "      <td>20002</td>\n",
       "      <td>60</td>\n",
       "      <td>40</td>\n",
       "      <td>-40</td>\n",
       "      <td>-20</td>\n",
       "      <td>-10</td>\n",
       "      <td>110</td>\n",
       "      <td>330</td>\n",
       "      <td>?</td>\n",
       "      <td>?</td>\n",
       "      <td>...</td>\n",
       "      <td>?</td>\n",
       "      <td>20</td>\n",
       "      <td>40</td>\n",
       "      <td>?</td>\n",
       "      <td>?</td>\n",
       "      <td>-1220</td>\n",
       "      <td>-50</td>\n",
       "      <td>?</td>\n",
       "      <td>-3560</td>\n",
       "      <td>-920</td>\n",
       "    </tr>\n",
       "    <tr>\n",
       "      <th>2</th>\n",
       "      <td>20003</td>\n",
       "      <td>80</td>\n",
       "      <td>60</td>\n",
       "      <td>?</td>\n",
       "      <td>-60</td>\n",
       "      <td>0</td>\n",
       "      <td>?</td>\n",
       "      <td>360</td>\n",
       "      <td>-540</td>\n",
       "      <td>?</td>\n",
       "      <td>...</td>\n",
       "      <td>?</td>\n",
       "      <td>20</td>\n",
       "      <td>?</td>\n",
       "      <td>100</td>\n",
       "      <td>?</td>\n",
       "      <td>-1170</td>\n",
       "      <td>-50</td>\n",
       "      <td>-10</td>\n",
       "      <td>?</td>\n",
       "      <td>?</td>\n",
       "    </tr>\n",
       "    <tr>\n",
       "      <th>3</th>\n",
       "      <td>20004</td>\n",
       "      <td>80</td>\n",
       "      <td>90</td>\n",
       "      <td>40</td>\n",
       "      <td>10</td>\n",
       "      <td>?</td>\n",
       "      <td>190</td>\n",
       "      <td>490</td>\n",
       "      <td>-380</td>\n",
       "      <td>?</td>\n",
       "      <td>...</td>\n",
       "      <td>?</td>\n",
       "      <td>20</td>\n",
       "      <td>20</td>\n",
       "      <td>-40</td>\n",
       "      <td>40</td>\n",
       "      <td>?</td>\n",
       "      <td>?</td>\n",
       "      <td>-40</td>\n",
       "      <td>?</td>\n",
       "      <td>?</td>\n",
       "    </tr>\n",
       "    <tr>\n",
       "      <th>4</th>\n",
       "      <td>20005</td>\n",
       "      <td>80</td>\n",
       "      <td>70</td>\n",
       "      <td>40</td>\n",
       "      <td>?</td>\n",
       "      <td>?</td>\n",
       "      <td>70</td>\n",
       "      <td>470</td>\n",
       "      <td>-340</td>\n",
       "      <td>630</td>\n",
       "      <td>...</td>\n",
       "      <td>50</td>\n",
       "      <td>10</td>\n",
       "      <td>30</td>\n",
       "      <td>20</td>\n",
       "      <td>40</td>\n",
       "      <td>-1700</td>\n",
       "      <td>-60</td>\n",
       "      <td>-20</td>\n",
       "      <td>?</td>\n",
       "      <td>-420</td>\n",
       "    </tr>\n",
       "    <tr>\n",
       "      <th>...</th>\n",
       "      <td>...</td>\n",
       "      <td>...</td>\n",
       "      <td>...</td>\n",
       "      <td>...</td>\n",
       "      <td>...</td>\n",
       "      <td>...</td>\n",
       "      <td>...</td>\n",
       "      <td>...</td>\n",
       "      <td>...</td>\n",
       "      <td>...</td>\n",
       "      <td>...</td>\n",
       "      <td>...</td>\n",
       "      <td>...</td>\n",
       "      <td>...</td>\n",
       "      <td>...</td>\n",
       "      <td>...</td>\n",
       "      <td>...</td>\n",
       "      <td>...</td>\n",
       "      <td>...</td>\n",
       "      <td>...</td>\n",
       "      <td>...</td>\n",
       "    </tr>\n",
       "    <tr>\n",
       "      <th>12340</th>\n",
       "      <td>32341</td>\n",
       "      <td>60</td>\n",
       "      <td>?</td>\n",
       "      <td>?</td>\n",
       "      <td>20</td>\n",
       "      <td>?</td>\n",
       "      <td>240</td>\n",
       "      <td>430</td>\n",
       "      <td>?</td>\n",
       "      <td>340</td>\n",
       "      <td>...</td>\n",
       "      <td>50</td>\n",
       "      <td>10</td>\n",
       "      <td>70</td>\n",
       "      <td>50</td>\n",
       "      <td>50</td>\n",
       "      <td>-1390</td>\n",
       "      <td>?</td>\n",
       "      <td>-10</td>\n",
       "      <td>-2890</td>\n",
       "      <td>-490</td>\n",
       "    </tr>\n",
       "    <tr>\n",
       "      <th>12341</th>\n",
       "      <td>32342</td>\n",
       "      <td>?</td>\n",
       "      <td>50</td>\n",
       "      <td>-30</td>\n",
       "      <td>0</td>\n",
       "      <td>20</td>\n",
       "      <td>80</td>\n",
       "      <td>360</td>\n",
       "      <td>?</td>\n",
       "      <td>-180</td>\n",
       "      <td>...</td>\n",
       "      <td>?</td>\n",
       "      <td>?</td>\n",
       "      <td>?</td>\n",
       "      <td>?</td>\n",
       "      <td>50</td>\n",
       "      <td>?</td>\n",
       "      <td>-50</td>\n",
       "      <td>?</td>\n",
       "      <td>-3010</td>\n",
       "      <td>?</td>\n",
       "    </tr>\n",
       "    <tr>\n",
       "      <th>12342</th>\n",
       "      <td>32343</td>\n",
       "      <td>70</td>\n",
       "      <td>?</td>\n",
       "      <td>30</td>\n",
       "      <td>?</td>\n",
       "      <td>10</td>\n",
       "      <td>170</td>\n",
       "      <td>190</td>\n",
       "      <td>-570</td>\n",
       "      <td>310</td>\n",
       "      <td>...</td>\n",
       "      <td>50</td>\n",
       "      <td>10</td>\n",
       "      <td>20</td>\n",
       "      <td>-150</td>\n",
       "      <td>?</td>\n",
       "      <td>?</td>\n",
       "      <td>-50</td>\n",
       "      <td>?</td>\n",
       "      <td>-3120</td>\n",
       "      <td>-710</td>\n",
       "    </tr>\n",
       "    <tr>\n",
       "      <th>12343</th>\n",
       "      <td>32344</td>\n",
       "      <td>70</td>\n",
       "      <td>20</td>\n",
       "      <td>-60</td>\n",
       "      <td>-40</td>\n",
       "      <td>-30</td>\n",
       "      <td>210</td>\n",
       "      <td>560</td>\n",
       "      <td>?</td>\n",
       "      <td>-540</td>\n",
       "      <td>...</td>\n",
       "      <td>?</td>\n",
       "      <td>?</td>\n",
       "      <td>?</td>\n",
       "      <td>-10</td>\n",
       "      <td>60</td>\n",
       "      <td>-1630</td>\n",
       "      <td>?</td>\n",
       "      <td>?</td>\n",
       "      <td>-3700</td>\n",
       "      <td>-570</td>\n",
       "    </tr>\n",
       "    <tr>\n",
       "      <th>12344</th>\n",
       "      <td>32345</td>\n",
       "      <td>?</td>\n",
       "      <td>40</td>\n",
       "      <td>-30</td>\n",
       "      <td>?</td>\n",
       "      <td>0</td>\n",
       "      <td>50</td>\n",
       "      <td>?</td>\n",
       "      <td>-450</td>\n",
       "      <td>?</td>\n",
       "      <td>...</td>\n",
       "      <td>50</td>\n",
       "      <td>10</td>\n",
       "      <td>?</td>\n",
       "      <td>-50</td>\n",
       "      <td>50</td>\n",
       "      <td>?</td>\n",
       "      <td>-50</td>\n",
       "      <td>-20</td>\n",
       "      <td>?</td>\n",
       "      <td>-850</td>\n",
       "    </tr>\n",
       "  </tbody>\n",
       "</table>\n",
       "<p>12345 rows × 1001 columns</p>\n",
       "</div>"
      ],
      "text/plain": [
       "          id  x1  x2    x3   x4   x5   x6   x7    x8    x9  ... x991 x992  \\\n",
       "0      20001  70  90  -100    ?  -10    ?  260  -370  -280  ...    ?    ?   \n",
       "1      20002  60  40   -40  -20  -10  110  330     ?     ?  ...    ?   20   \n",
       "2      20003  80  60     ?  -60    0    ?  360  -540     ?  ...    ?   20   \n",
       "3      20004  80  90    40   10    ?  190  490  -380     ?  ...    ?   20   \n",
       "4      20005  80  70    40    ?    ?   70  470  -340   630  ...   50   10   \n",
       "...      ...  ..  ..   ...  ...  ...  ...  ...   ...   ...  ...  ...  ...   \n",
       "12340  32341  60   ?     ?   20    ?  240  430     ?   340  ...   50   10   \n",
       "12341  32342   ?  50   -30    0   20   80  360     ?  -180  ...    ?    ?   \n",
       "12342  32343  70   ?    30    ?   10  170  190  -570   310  ...   50   10   \n",
       "12343  32344  70  20   -60  -40  -30  210  560     ?  -540  ...    ?    ?   \n",
       "12344  32345   ?  40   -30    ?    0   50    ?  -450     ?  ...   50   10   \n",
       "\n",
       "      x993  x994 x995   x996 x997 x998   x999 x1000  \n",
       "0       10   140   50      ?  -60    ?  -3200  -950  \n",
       "1       40     ?    ?  -1220  -50    ?  -3560  -920  \n",
       "2        ?   100    ?  -1170  -50  -10      ?     ?  \n",
       "3       20   -40   40      ?    ?  -40      ?     ?  \n",
       "4       30    20   40  -1700  -60  -20      ?  -420  \n",
       "...    ...   ...  ...    ...  ...  ...    ...   ...  \n",
       "12340   70    50   50  -1390    ?  -10  -2890  -490  \n",
       "12341    ?     ?   50      ?  -50    ?  -3010     ?  \n",
       "12342   20  -150    ?      ?  -50    ?  -3120  -710  \n",
       "12343    ?   -10   60  -1630    ?    ?  -3700  -570  \n",
       "12344    ?   -50   50      ?  -50  -20      ?  -850  \n",
       "\n",
       "[12345 rows x 1001 columns]"
      ]
     },
     "execution_count": 56,
     "metadata": {},
     "output_type": "execute_result"
    }
   ],
   "source": [
    "test.head()"
   ]
  },
  {
   "cell_type": "code",
   "execution_count": 57,
   "metadata": {
    "colab": {
     "base_uri": "https://localhost:8080/",
     "height": 389
    },
    "execution": {
     "iopub.execute_input": "2024-11-04T13:16:28.110500Z",
     "iopub.status.busy": "2024-11-04T13:16:28.109784Z",
     "iopub.status.idle": "2024-11-04T13:16:32.377543Z",
     "shell.execute_reply": "2024-11-04T13:16:32.376736Z",
     "shell.execute_reply.started": "2024-11-04T13:16:28.110458Z"
    },
    "id": "8NnKnzgVmH67",
    "outputId": "37b57566-b3d9-4ec3-cfa0-05f2a3f75ea3"
   },
   "outputs": [],
   "source": [
    "test.replace({'?':np.nan}, inplace=True)\n",
    "test[train.columns[:-1]] = test[train.columns[:-1]].astype('float')"
   ]
  },
  {
   "cell_type": "code",
   "execution_count": 59,
   "metadata": {
    "execution": {
     "iopub.execute_input": "2024-11-04T13:17:01.785356Z",
     "iopub.status.busy": "2024-11-04T13:17:01.784856Z",
     "iopub.status.idle": "2024-11-04T13:17:01.856546Z",
     "shell.execute_reply": "2024-11-04T13:17:01.855575Z",
     "shell.execute_reply.started": "2024-11-04T13:17:01.785306Z"
    }
   },
   "outputs": [],
   "source": [
    "test.drop('id', inplace=True, axis=1)"
   ]
  },
  {
   "cell_type": "code",
   "execution_count": 60,
   "metadata": {
    "colab": {
     "base_uri": "https://localhost:8080/"
    },
    "execution": {
     "iopub.execute_input": "2024-11-04T13:17:03.542013Z",
     "iopub.status.busy": "2024-11-04T13:17:03.541024Z",
     "iopub.status.idle": "2024-11-04T13:17:05.823335Z",
     "shell.execute_reply": "2024-11-04T13:17:05.822533Z",
     "shell.execute_reply.started": "2024-11-04T13:17:03.541970Z"
    },
    "id": "Bd9p976_nCWv",
    "outputId": "82592132-1c3e-456d-9bd2-3c4bb0b6c8d2"
   },
   "outputs": [],
   "source": [
    "test = preprocessing_pipeline.transform(test)"
   ]
  },
  {
   "cell_type": "code",
   "execution_count": 61,
   "metadata": {
    "execution": {
     "iopub.execute_input": "2024-11-04T13:17:08.650923Z",
     "iopub.status.busy": "2024-11-04T13:17:08.650108Z",
     "iopub.status.idle": "2024-11-04T13:17:08.773706Z",
     "shell.execute_reply": "2024-11-04T13:17:08.772886Z",
     "shell.execute_reply.started": "2024-11-04T13:17:08.650874Z"
    }
   },
   "outputs": [],
   "source": [
    "y_pred= model.predict(test)"
   ]
  },
  {
   "cell_type": "code",
   "execution_count": 63,
   "metadata": {
    "execution": {
     "iopub.execute_input": "2024-11-04T13:17:17.375427Z",
     "iopub.status.busy": "2024-11-04T13:17:17.375060Z",
     "iopub.status.idle": "2024-11-04T13:17:17.380485Z",
     "shell.execute_reply": "2024-11-04T13:17:17.379394Z",
     "shell.execute_reply.started": "2024-11-04T13:17:17.375395Z"
    },
    "id": "68_GtukUIcWU"
   },
   "outputs": [],
   "source": [
    "sample = pd.DataFrame()"
   ]
  },
  {
   "cell_type": "code",
   "execution_count": 64,
   "metadata": {
    "execution": {
     "iopub.execute_input": "2024-11-04T13:17:20.345857Z",
     "iopub.status.busy": "2024-11-04T13:17:20.345043Z",
     "iopub.status.idle": "2024-11-04T13:17:20.352486Z",
     "shell.execute_reply": "2024-11-04T13:17:20.351550Z",
     "shell.execute_reply.started": "2024-11-04T13:17:20.345801Z"
    },
    "id": "VALSL9fkmk6Y"
   },
   "outputs": [],
   "source": [
    "sample['y'] = y_pred"
   ]
  },
  {
   "cell_type": "code",
   "execution_count": 65,
   "metadata": {
    "colab": {
     "base_uri": "https://localhost:8080/",
     "height": 206
    },
    "execution": {
     "iopub.execute_input": "2024-11-04T13:17:22.518632Z",
     "iopub.status.busy": "2024-11-04T13:17:22.517648Z",
     "iopub.status.idle": "2024-11-04T13:17:22.527729Z",
     "shell.execute_reply": "2024-11-04T13:17:22.526877Z",
     "shell.execute_reply.started": "2024-11-04T13:17:22.518587Z"
    },
    "id": "RkJRY5PHrU1Z",
    "outputId": "58486bae-bc1a-443d-bdc8-4b9fec7e0821"
   },
   "outputs": [
    {
     "data": {
      "text/html": [
       "<div>\n",
       "<style scoped>\n",
       "    .dataframe tbody tr th:only-of-type {\n",
       "        vertical-align: middle;\n",
       "    }\n",
       "\n",
       "    .dataframe tbody tr th {\n",
       "        vertical-align: top;\n",
       "    }\n",
       "\n",
       "    .dataframe thead th {\n",
       "        text-align: right;\n",
       "    }\n",
       "</style>\n",
       "<table border=\"1\" class=\"dataframe\">\n",
       "  <thead>\n",
       "    <tr style=\"text-align: right;\">\n",
       "      <th></th>\n",
       "      <th>y</th>\n",
       "    </tr>\n",
       "  </thead>\n",
       "  <tbody>\n",
       "    <tr>\n",
       "      <th>0</th>\n",
       "      <td>P</td>\n",
       "    </tr>\n",
       "    <tr>\n",
       "      <th>1</th>\n",
       "      <td>N</td>\n",
       "    </tr>\n",
       "    <tr>\n",
       "      <th>2</th>\n",
       "      <td>N</td>\n",
       "    </tr>\n",
       "    <tr>\n",
       "      <th>3</th>\n",
       "      <td>N</td>\n",
       "    </tr>\n",
       "    <tr>\n",
       "      <th>4</th>\n",
       "      <td>N</td>\n",
       "    </tr>\n",
       "  </tbody>\n",
       "</table>\n",
       "</div>"
      ],
      "text/plain": [
       "   y\n",
       "0  P\n",
       "1  N\n",
       "2  N\n",
       "3  N\n",
       "4  N"
      ]
     },
     "execution_count": 65,
     "metadata": {},
     "output_type": "execute_result"
    }
   ],
   "source": [
    "sample.head()"
   ]
  },
  {
   "cell_type": "code",
   "execution_count": 66,
   "metadata": {
    "execution": {
     "iopub.execute_input": "2024-11-04T13:17:26.601400Z",
     "iopub.status.busy": "2024-11-04T13:17:26.600564Z",
     "iopub.status.idle": "2024-11-04T13:17:26.615192Z",
     "shell.execute_reply": "2024-11-04T13:17:26.614336Z",
     "shell.execute_reply.started": "2024-11-04T13:17:26.601359Z"
    },
    "id": "sf7f6bPvIkbe"
   },
   "outputs": [],
   "source": [
    "sample.to_csv('output.tsv', sep='\\t', index=False)"
   ]
  }
 ],
 "metadata": {
  "colab": {
   "provenance": []
  },
  "kaggle": {
   "accelerator": "gpu",
   "dataSources": [
    {
     "datasetId": 6003838,
     "sourceId": 9796745,
     "sourceType": "datasetVersion"
    }
   ],
   "dockerImageVersionId": 30787,
   "isGpuEnabled": true,
   "isInternetEnabled": true,
   "language": "python",
   "sourceType": "notebook"
  },
  "kernelspec": {
   "display_name": "Python 3 (ipykernel)",
   "language": "python",
   "name": "python3"
  },
  "language_info": {
   "codemirror_mode": {
    "name": "ipython",
    "version": 3
   },
   "file_extension": ".py",
   "mimetype": "text/x-python",
   "name": "python",
   "nbconvert_exporter": "python",
   "pygments_lexer": "ipython3",
   "version": "3.12.7"
  }
 },
 "nbformat": 4,
 "nbformat_minor": 4
}
