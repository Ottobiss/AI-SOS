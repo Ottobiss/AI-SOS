{
 "cells": [
  {
   "cell_type": "code",
   "execution_count": 1,
   "id": "f1a5aee3",
   "metadata": {},
   "outputs": [
    {
     "name": "stdout",
     "output_type": "stream",
     "text": [
      "2.4.0+cpu\n"
     ]
    }
   ],
   "source": [
    "import torch\n",
    "print(torch.__version__)"
   ]
  },
  {
   "cell_type": "markdown",
   "id": "f0ca7f78",
   "metadata": {},
   "source": [
    "## Перцептрон в PyTorch"
   ]
  },
  {
   "cell_type": "markdown",
   "id": "8ac15faf",
   "metadata": {
    "cellId": "1tpe12rd9nflcjkvx3ixt",
    "execution_id": "e7c317e4-7411-4cd0-ae28-df3ee141ea37"
   },
   "source": [
    "$x = (x_1, ..., x_n)$ — вектор с данными.\n",
    "\n",
    "$y = (y_1, ..., y_k)$ — то, что хотим предсказать, используя $x$.\n",
    "\n",
    "Сначала попробуем на совсем простой модели:\n",
    "\n",
    "$\\hat{y} = \\sigma ( x^T \\cdot W + b)$\n",
    "\n",
    "$$\n",
    "W =\n",
    "\\begin{pmatrix}\n",
    "w_{1,1} & w_{1,2} & ... & w_{1,k}\\\\\n",
    "...&...&...&...\\\\\n",
    "w_{n,1} & w_{n,2} & ... & w_{n,k}\\\\\n",
    "\\end{pmatrix}\n",
    "- \\text{Матрица весов}\\quad ; \\quad b =\n",
    "\\begin{pmatrix}\n",
    "b_{1} & b_{2} & ... & b_{k}\\\\\n",
    "\\end{pmatrix}\n",
    "- \\text{Вектор смещения}\n",
    "$$\n",
    "\n",
    "$$\n",
    "x^T \\cdot W + b =\n",
    "\\begin{pmatrix}\n",
    "b_1 + \\sum_{i=1}^{n} x_i \\cdot w_{i,1} & b_2 + \\sum_{i=1}^{n} x_i \\cdot w_{i,2} & ... & b_k + \\sum_{i=1}^{n} x_i \\cdot w_{i,k}\\\\\n",
    "\\end{pmatrix}\n",
    "$$\n",
    "\n",
    "$\\sigma(a) = \\frac{1}{1 + e^{-a}}$ — функция «сигмоида», в нашем случае применяется поэлементно (к каждому элементу вектора по отдельности)."
   ]
  },
  {
   "cell_type": "code",
   "execution_count": 2,
   "id": "43e8281f",
   "metadata": {
    "cellId": "dgs04t8ox9jhdidumpjre"
   },
   "outputs": [
    {
     "name": "stdout",
     "output_type": "stream",
     "text": [
      "x:\n",
      "tensor([0.4225, 0.9686, 0.6591])\n",
      "\n",
      "y_true:\n",
      "tensor([1.])\n"
     ]
    }
   ],
   "source": [
    "# Пусть есть вектор x и истинный ответ y_true.\n",
    "x = torch.rand(3)\n",
    "y_true = torch.tensor([1.])\n",
    "print(f\"x:\\n{x}\\n\\ny_true:\\n{y_true}\")"
   ]
  },
  {
   "cell_type": "code",
   "execution_count": 3,
   "id": "c41cb1a9",
   "metadata": {
    "cellId": "majd2p1xvhleyawm8r1yn8"
   },
   "outputs": [
    {
     "name": "stdout",
     "output_type": "stream",
     "text": [
      "w:\n",
      "tensor([[-1.1853],\n",
      "        [ 0.7312],\n",
      "        [-0.7299]], requires_grad=True)\n",
      "\n",
      "b:\n",
      "tensor([0.], requires_grad=True)\n"
     ]
    }
   ],
   "source": [
    "# Зададим матрицу весов и вектор смещения.\n",
    "# С помощью параметра requires_grad мы указываем,\n",
    "#  что для данных тензоров нужно будет считать градиенты.\n",
    "w = torch.randn(3, 1, requires_grad=True)\n",
    "b = torch.zeros(1, requires_grad=True)\n",
    "print(f\"w:\\n{w}\\n\\nb:\\n{b}\")"
   ]
  },
  {
   "cell_type": "code",
   "execution_count": 10,
   "id": "277c0d1a",
   "metadata": {
    "cellId": "o3vgaoaw7kulvpaj91fq8"
   },
   "outputs": [
    {
     "data": {
      "text/plain": [
       "tensor([0.7311, 0.5000, 0.2689])"
      ]
     },
     "execution_count": 10,
     "metadata": {},
     "output_type": "execute_result"
    }
   ],
   "source": [
    "# Для вычисления сигмоиды возьмём уже готовую функцию из библиотеки PyTorch.\n",
    "torch.sigmoid(torch.tensor([1, 0, -1]))"
   ]
  },
  {
   "cell_type": "code",
   "execution_count": 11,
   "id": "f59b88ad",
   "metadata": {
    "cellId": "q60axvd2xh9u788sm5evr9"
   },
   "outputs": [
    {
     "data": {
      "text/plain": [
       "tensor([0.4320], grad_fn=<SigmoidBackward0>)"
      ]
     },
     "execution_count": 11,
     "metadata": {},
     "output_type": "execute_result"
    }
   ],
   "source": [
    "# Вычисляем наше предсказание на основе простой модели.\n",
    "y_pred = torch.sigmoid(x.T @ w + b)\n",
    "y_pred"
   ]
  },
  {
   "cell_type": "code",
   "execution_count": 12,
   "id": "57a30fd8",
   "metadata": {},
   "outputs": [
    {
     "data": {
      "text/plain": [
       "tensor([0.4320], grad_fn=<SigmoidBackward0>)"
      ]
     },
     "execution_count": 12,
     "metadata": {},
     "output_type": "execute_result"
    }
   ],
   "source": [
    "# Знак транспонирования при умножении вектора на матрицу можно не писать.\n",
    "y_pred = torch.sigmoid(x @ w + b)\n",
    "y_pred"
   ]
  },
  {
   "cell_type": "code",
   "execution_count": 13,
   "id": "88c6ffc4",
   "metadata": {
    "cellId": "sodrh0oq518mrobbqspejt"
   },
   "outputs": [
    {
     "data": {
      "text/plain": [
       "tensor(0.3226, grad_fn=<SumBackward0>)"
      ]
     },
     "execution_count": 13,
     "metadata": {},
     "output_type": "execute_result"
    }
   ],
   "source": [
    "# Будем оценивать модуль разницы между оригинальным значением y_true и предсказанным y_pred\n",
    "#  (в более общем случае сумму по всем k, но в нашем примере k = 1).\n",
    "loss = ((y_true - y_pred)**2).sum()\n",
    "loss"
   ]
  },
  {
   "cell_type": "code",
   "execution_count": 14,
   "id": "36100baf",
   "metadata": {
    "cellId": "8mcqeqsnwi7nghhpkefwn"
   },
   "outputs": [
    {
     "name": "stdout",
     "output_type": "stream",
     "text": [
      "До применения backward\n",
      "\n",
      "w.grad:\n",
      "None\n",
      "\n",
      "b.grad:\n",
      "None\n",
      "\n",
      "---------\n",
      "\n",
      "После применения backward\n",
      "\n",
      "w.grad:\n",
      "tensor([[-0.1178],\n",
      "        [-0.2700],\n",
      "        [-0.1837]])\n",
      "\n",
      "b.grad:\n",
      "tensor([-0.2787])\n"
     ]
    }
   ],
   "source": [
    "# По сути в переменной loss находится число — величина ошибки.\n",
    "# Именно это число мы хотим *оптимизировать* при обучении:\n",
    "#  чем оно меньше после очередной итерации, тем лучше наше предсказание\n",
    "# Будем называть эту переменную «Величина ошибки обучения» или просто «Ошибка».\n",
    "\n",
    "# Всё, что нужно для завершения шага обучения нашей простой модели — обновить матрицу весов \n",
    "#  и вектор смещения, используя соответствующие градиенты (алгоритм градиентного спуска).\n",
    "\n",
    "# Получить градиенты для любой переменной можно с помощью параметра .grad,\n",
    "#  однако изначально они ничем не инициализированы.\n",
    "print(\n",
    "    f\"До применения backward\",\n",
    "    f\"w.grad:\\n{w.grad}\",\n",
    "    f\"b.grad:\\n{b.grad}\",\n",
    "    sep=\"\\n\\n\",\n",
    "    end=\"\\n\\n---------\\n\\n\",\n",
    ")\n",
    "\n",
    "# Функция backward(), используя граф вычислений, дойдёт по нему до всех переменных\n",
    "#  с requires_grad = True и посчитает для них градиенты.\n",
    "# Воспользуемся ей для расчёта градиентов относительно ошибки предсказания.\n",
    "loss.backward()\n",
    "\n",
    "print(\n",
    "    f\"После применения backward\",\n",
    "    f\"w.grad:\\n{w.grad}\",\n",
    "    f\"b.grad:\\n{b.grad}\",\n",
    "    sep=\"\\n\\n\",\n",
    ")"
   ]
  },
  {
   "cell_type": "code",
   "execution_count": 15,
   "id": "1ab186be",
   "metadata": {
    "cellId": "qcauh0xaht3tb6gksqt8p"
   },
   "outputs": [
    {
     "name": "stdout",
     "output_type": "stream",
     "text": [
      "До обновления\n",
      "\n",
      "w:\n",
      "tensor([[-1.1853],\n",
      "        [ 0.7312],\n",
      "        [-0.7299]], requires_grad=True)\n",
      "\n",
      "b:\n",
      "tensor([0.], requires_grad=True)\n",
      "\n",
      "---------\n",
      "\n",
      "После обновления\n",
      "\n",
      "w:\n",
      "tensor([[-1.0675],\n",
      "        [ 1.0012],\n",
      "        [-0.5462]], requires_grad=True)\n",
      "\n",
      "b:\n",
      "tensor([0.2787], requires_grad=True)\n"
     ]
    }
   ],
   "source": [
    "# Обновим наши веса в соответствии с полученными градиентами.\n",
    "# Пока не используем параметр «шаг градиентного спуска».\n",
    "print(\n",
    "    f\"До обновления\",\n",
    "    f\"w:\\n{w}\",\n",
    "    f\"b:\\n{b}\",\n",
    "    sep=\"\\n\\n\",\n",
    "    end=\"\\n\\n---------\\n\\n\",\n",
    ")\n",
    "\n",
    "with torch.no_grad():\n",
    "    # Специальная обёртка, чтобы указать, что операции внутри\n",
    "    #  не требуют построения графа вычислений или же подсчёта градиентов.\n",
    "    \n",
    "    # Важно, что пишем w -= w.grad, а не w = w - w.grad.\n",
    "    # Иначе мы не меняем текущую переменную, а создаём новую,\n",
    "    #  из-за чего слетят настройки requires_grad = True.\n",
    "    w -= w.grad  \n",
    "    b -= b.grad  \n",
    "\n",
    "print(\n",
    "    f\"После обновления\",\n",
    "    f\"w:\\n{w}\",\n",
    "    f\"b:\\n{b}\",\n",
    "    sep=\"\\n\\n\",\n",
    ")"
   ]
  },
  {
   "cell_type": "code",
   "execution_count": 16,
   "id": "f53fe0c8",
   "metadata": {
    "cellId": "w2zudmlkdg73homhxb6pr"
   },
   "outputs": [
    {
     "name": "stdout",
     "output_type": "stream",
     "text": [
      "До обнуления\n",
      "\n",
      "w.grad:\n",
      "tensor([[-0.1178],\n",
      "        [-0.2700],\n",
      "        [-0.1837]])\n",
      "\n",
      "b.grad:\n",
      "tensor([-0.2787])\n",
      "\n",
      "---------\n",
      "\n",
      "После обнуления\n",
      "\n",
      "w.grad:\n",
      "tensor([[0.],\n",
      "        [0.],\n",
      "        [0.]])\n",
      "\n",
      "b.grad:\n",
      "tensor([0.])\n"
     ]
    }
   ],
   "source": [
    "# ОЧЕНЬ ВАЖНО - градиенты не обнуляются, это нужно делать ВРУЧНУЮ.\n",
    "\n",
    "print(\n",
    "    f\"До обнуления\",\n",
    "    f\"w.grad:\\n{w.grad}\",\n",
    "    f\"b.grad:\\n{b.grad}\",\n",
    "    sep=\"\\n\\n\",\n",
    "    end=\"\\n\\n---------\\n\\n\",\n",
    ")\n",
    "\n",
    "w.grad.zero_()  # In-place обнуление тензора.\n",
    "b.grad.zero_()\n",
    "\n",
    "print(\n",
    "    f\"После обнуления\",\n",
    "    f\"w.grad:\\n{w.grad}\",\n",
    "    f\"b.grad:\\n{b.grad}\",\n",
    "    sep=\"\\n\\n\",\n",
    ")"
   ]
  }
 ],
 "metadata": {
  "kernelspec": {
   "display_name": "Python 3 (ipykernel)",
   "language": "python",
   "name": "python3"
  },
  "language_info": {
   "codemirror_mode": {
    "name": "ipython",
    "version": 3
   },
   "file_extension": ".py",
   "mimetype": "text/x-python",
   "name": "python",
   "nbconvert_exporter": "python",
   "pygments_lexer": "ipython3",
   "version": "3.12.3"
  },
  "notebookId": "acb09e64-0f5a-487d-8145-fea4f3cbd3ad",
  "notebookPath": "Sirius/sirius_lecture_2.ipynb"
 },
 "nbformat": 4,
 "nbformat_minor": 5
}
